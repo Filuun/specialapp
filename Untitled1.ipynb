{
 "cells": [
  {
   "cell_type": "code",
   "execution_count": 11,
   "id": "c9b1a8d8",
   "metadata": {},
   "outputs": [
    {
     "name": "stdout",
     "output_type": "stream",
     "text": [
      "26\n",
      "10\n",
      "3\n"
     ]
    }
   ],
   "source": [
    "list2 = [[26,27,25], [8, 3, 16, 15],[1,2,3,4,5]]\n",
    "list1 = [1,2,3,4]\n",
    "\n",
    "def get_average_number(week_stat):\n",
    "    for i in week_stat:\n",
    "        a = sum(i) // len(i)\n",
    "        print(a)\n",
    "\n",
    "get_average_number(list2)"
   ]
  },
  {
   "cell_type": "code",
   "execution_count": null,
   "id": "436ee451",
   "metadata": {},
   "outputs": [],
   "source": []
  }
 ],
 "metadata": {
  "kernelspec": {
   "display_name": "Python 3 (ipykernel)",
   "language": "python",
   "name": "python3"
  },
  "language_info": {
   "codemirror_mode": {
    "name": "ipython",
    "version": 3
   },
   "file_extension": ".py",
   "mimetype": "text/x-python",
   "name": "python",
   "nbconvert_exporter": "python",
   "pygments_lexer": "ipython3",
   "version": "3.11.5"
  }
 },
 "nbformat": 4,
 "nbformat_minor": 5
}
